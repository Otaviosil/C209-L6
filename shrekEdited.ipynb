{
 "cells": [
  {
   "cell_type": "code",
   "execution_count": null,
   "id": "e4186f1a-e1e3-46f3-a99e-86617cb5119c",
   "metadata": {},
   "outputs": [],
   "source": [
    "from moviepy.editor import VideoFileClip\n",
    "import numpy as np\n",
    "\n",
    "video = VideoFileClip(\"shrek.mp4\")\n",
    "duration = video.duration  # Should be 171 seconds\n",
    "\n",
    "# função de inversão a cada 20 segundos\n",
    "def invert_every_20sec(get_frame, t):\n",
    "    frame = get_frame(t)\n",
    "    interval = t // 20\n",
    "    if interval % 2 == 1:\n",
    "        return np.fliplr(frame)\n",
    "    else:\n",
    "        return frame\n",
    "\n",
    "# Aplica a transformação\n",
    "video_inverted = video.fl(invert_every_20sec)\n",
    "\n",
    "# Escreve o vídeo invertido em um arquivo\n",
    "video_inverted.write_videofile('inverted_video.mp4')\n",
    "\n",
    "# Exibe o vídeo usando HTML\n",
    "from IPython.display import HTML\n",
    "HTML('<video width=480 controls src=\"inverted_video.mp4\"></video>')"
   ]
  },
  {
   "cell_type": "code",
   "execution_count": null,
   "id": "6204d258-be9b-4d6d-b35e-d31253c49ee0",
   "metadata": {},
   "outputs": [],
   "source": [
    "from moviepy.editor import VideoFileClip\n",
    "import numpy as np\n",
    "\n",
    "# Carrega o vídeo invertido\n",
    "video_inverted = VideoFileClip(\"inverted_video.mp4\")\n",
    "duration = video_inverted.duration  # Should be 171 seconds\n",
    "\n",
    "# função para diminuir gradualmente o volume\n",
    "def decrease_volume(get_frame, t):\n",
    "    frame = get_frame(t)\n",
    "    if isinstance(t, np.ndarray):\n",
    "        volume_factor = np.where(t < duration - 10, 1 - (t / (duration - 10)), 0)\n",
    "        frame *= volume_factor[:, None]\n",
    "    else:\n",
    "        if t < duration - 10:\n",
    "            volume_factor = 1 - (t / (duration - 10))\n",
    "            frame *= volume_factor\n",
    "        else:\n",
    "            frame *= 0  # Silence the last 10 seconds\n",
    "    return frame\n",
    "\n",
    "# Aplica diminuição de volume\n",
    "audio_decreased = video_inverted.audio.fl(decrease_volume)\n",
    "video_with_decreased_audio = video_inverted.set_audio(audio_decreased)\n",
    "\n",
    "# Escreve o vídeo com volume diminuído em um arquivo\n",
    "video_with_decreased_audio.write_videofile('video_with_decreased_audio.mp4')\n",
    "\n",
    "# Exibe o vídeo usando HTML\n",
    "from IPython.display import HTML\n",
    "HTML('<video width=480 controls src=\"video_with_decreased_audio.mp4\"></video>')"
   ]
  },
  {
   "cell_type": "code",
   "execution_count": null,
   "id": "90472a45-789a-4a24-be44-6856f7920b34",
   "metadata": {},
   "outputs": [],
   "source": [
    "from moviepy.editor import VideoFileClip, concatenate_videoclips\n",
    "\n",
    "# Carrega o vídeo com volume diminuído\n",
    "video_with_decreased_audio = VideoFileClip(\"video_with_decreased_audio.mp4\")\n",
    "\n",
    "# Corta o vídeo de 60 segundos a 80 segundos\n",
    "cut_part = video_with_decreased_audio.subclip(60, 80)\n",
    "\n",
    "# Remove o trecho cortado do vídeo original\n",
    "remaining_video = concatenate_videoclips([\n",
    "    video_with_decreased_audio.subclip(0, 60),\n",
    "    video_with_decreased_audio.subclip(80)\n",
    "])\n",
    "\n",
    "# Concatena o vídeo restante com o trecho cortado no final\n",
    "final_video = concatenate_videoclips([remaining_video, cut_part])\n",
    "\n",
    "# Escreve o vídeo final em um arquivo\n",
    "final_video.write_videofile('final_video.mp4')\n",
    "\n",
    "# Exibe o vídeo final usando HTML\n",
    "from IPython.display import HTML\n",
    "HTML('<video width=480 controls src=\"final_video.mp4\"></video>')"
   ]
  },
  {
   "cell_type": "code",
   "execution_count": null,
   "id": "63908fad-6a3a-4100-b068-ba302a8c40e6",
   "metadata": {},
   "outputs": [],
   "source": []
  }
 ],
 "metadata": {
  "kernelspec": {
   "display_name": "Python 3 (ipykernel)",
   "language": "python",
   "name": "python3"
  },
  "language_info": {
   "codemirror_mode": {
    "name": "ipython",
    "version": 3
   },
   "file_extension": ".py",
   "mimetype": "text/x-python",
   "name": "python",
   "nbconvert_exporter": "python",
   "pygments_lexer": "ipython3",
   "version": "3.12.5"
  }
 },
 "nbformat": 4,
 "nbformat_minor": 5
}
